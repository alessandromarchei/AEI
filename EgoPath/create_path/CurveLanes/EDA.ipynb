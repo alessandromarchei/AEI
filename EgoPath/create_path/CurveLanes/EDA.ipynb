{
 "cells": [
  {
   "cell_type": "code",
   "execution_count": 1,
   "metadata": {},
   "outputs": [],
   "source": [
    "import argparse\n",
    "import json\n",
    "import os\n",
    "import shutil\n",
    "import pathlib\n",
    "from PIL import Image, ImageDraw\n",
    "import warnings\n",
    "from datetime import datetime"
   ]
  },
  {
   "cell_type": "code",
   "execution_count": 5,
   "metadata": {},
   "outputs": [],
   "source": [
    "root_dir = \"/home/tranhuunhathuy/Documents/Autoware/pov_datasets/Curvelanes\"\n",
    "list_dir = [\"train\", \"valid\"]\n",
    "list_subdir = [\"images\", \"labels\"]\n",
    "\n",
    "size_dict = {}\n",
    "\n",
    "for dir in list_dir:\n",
    "    images_dir = os.path.join(root_dir, dir, \"images\")\n",
    "    labels_dir = os.path.join(root_dir, dir, \"labels\")\n",
    "\n",
    "    for img_path in os.listdir(images_dir):\n",
    "        img_path_abstr = os.path.join(dir, \"images\", img_path)\n",
    "        im = Image.open(os.path.join(images_dir, img_path))\n",
    "        w, h = im.size\n",
    "        dim_name = f\"{w}x{h}\"\n",
    "        if (dim_name not in size_dict):\n",
    "            size_dict[dim_name] = []\n",
    "        size_dict[dim_name].append(img_path_abstr)"
   ]
  },
  {
   "cell_type": "code",
   "execution_count": 6,
   "metadata": {},
   "outputs": [],
   "source": [
    "with open(\"./size_dict.json\", \"w\") as f:\n",
    "    json.dump(\n",
    "        size_dict, f,\n",
    "        indent = 4\n",
    "    )"
   ]
  },
  {
   "cell_type": "code",
   "execution_count": 7,
   "metadata": {},
   "outputs": [
    {
     "name": "stdout",
     "output_type": "stream",
     "text": [
      "2560x1440 : 109809\n",
      "1570x660 : 10180\n",
      "1280x720 : 11\n"
     ]
    }
   ],
   "source": [
    "for size_class in size_dict:\n",
    "    print(f\"{size_class} : {len(size_dict[size_class])}\")"
   ]
  }
 ],
 "metadata": {
  "kernelspec": {
   "display_name": "usr",
   "language": "python",
   "name": "python3"
  },
  "language_info": {
   "codemirror_mode": {
    "name": "ipython",
    "version": 3
   },
   "file_extension": ".py",
   "mimetype": "text/x-python",
   "name": "python",
   "nbconvert_exporter": "python",
   "pygments_lexer": "ipython3",
   "version": "3.10.12"
  }
 },
 "nbformat": 4,
 "nbformat_minor": 2
}
